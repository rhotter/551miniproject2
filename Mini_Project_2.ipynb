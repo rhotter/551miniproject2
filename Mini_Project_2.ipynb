{
 "cells": [
  {
   "cell_type": "markdown",
   "metadata": {
    "colab_type": "text",
    "id": "m79a_ixHKSNa"
   },
   "source": [
    "# Mini Project 2: IMDB Sentiment Analysis\n",
    "\n",
    "February 22, 2019\n",
    "\n",
    "Akshal Aniche, Jacob Sanz-Robinson, Raphael Hotter\n",
    "\n",
    "COMP 551"
   ]
  },
  {
   "cell_type": "markdown",
   "metadata": {
    "colab_type": "text",
    "id": "0-pKZV1tOrb5"
   },
   "source": [
    "## Imports"
   ]
  },
  {
   "cell_type": "code",
   "execution_count": 1,
   "metadata": {
    "colab": {},
    "colab_type": "code",
    "id": "mM8MJ94vOvfK"
   },
   "outputs": [],
   "source": [
    "import os\n",
    "from sklearn.feature_extraction.text import CountVectorizer\n",
    "from sklearn.feature_extraction.text import TfidfVectorizer\n",
    "import numpy as np\n",
    "from sklearn.model_selection import cross_val_score"
   ]
  },
  {
   "cell_type": "markdown",
   "metadata": {},
   "source": [
    "## Data processer preparation"
   ]
  },
  {
   "cell_type": "code",
   "execution_count": 3,
   "metadata": {},
   "outputs": [],
   "source": [
    "bin_vec = CountVectorizer(binary=True)\n",
    "tfidf_vec = TfidfVectorizer()\n",
    "bigram_vec = CountVectorizer(ngram_range=(1,2))"
   ]
  },
  {
   "cell_type": "markdown",
   "metadata": {
    "colab_type": "text",
    "id": "RfiIMynrNxs1"
   },
   "source": [
    "## Load the data"
   ]
  },
  {
   "cell_type": "code",
   "execution_count": 4,
   "metadata": {
    "colab": {},
    "colab_type": "code",
    "id": "l97x0eiVOomj"
   },
   "outputs": [],
   "source": [
    "pos_train_files = os.listdir('data/train/pos/')\n",
    "neg_train_files = os.listdir('data/train/neg/')\n",
    "test_files = os.listdir('data/test/')\n",
    "\n",
    "# Remove .DS_Store files\n",
    "while '.DS_Store' in pos_train_files:\n",
    "  pos_train_files.remove('.DS_Store')\n",
    "while '.DS_Store' in neg_train_files:\n",
    "  neg_train_files.remove('.DS_Store')\n",
    "while '.DS_Store' in test_files:\n",
    "  test_files.remove('.DS_Store')"
   ]
  },
  {
   "cell_type": "code",
   "execution_count": null,
   "metadata": {
    "colab": {},
    "colab_type": "code",
    "id": "1cGRD8HCOM_O"
   },
   "outputs": [],
   "source": [
    "# Reads data into 2 arrays\n",
    "train_text, test_raw = [], []\n",
    "\n",
    "for file in pos_train_files:\n",
    "  with open('data/train/pos/{}'.format(file), 'r') as f:\n",
    "    train_text.append(f.read())\n",
    "\n",
    "for file in neg_train_files:\n",
    "  with open('data/train/neg/{}'.format(file), 'r') as f:\n",
    "    train_text.append(f.read())\n",
    "\n",
    "for file in test_files:\n",
    "  with open('data/test/{}'.format(file), 'r') as f:\n",
    "    test_raw.append(f.read())"
   ]
  },
  {
   "cell_type": "code",
   "execution_count": null,
   "metadata": {
    "colab": {},
    "colab_type": "code",
    "id": "Xt2U3HyfMzD3"
   },
   "outputs": [],
   "source": [
    "# Training set Y vector\n",
    "pos_goal = np.ones((12500, 1))\n",
    "neg_goal = np.zeros((12500, 1))\n",
    "Y_train = np.append(pos_goal, neg_goal, axis = 0)"
   ]
  },
  {
   "cell_type": "markdown",
   "metadata": {},
   "source": [
    "## Text processing"
   ]
  },
  {
   "cell_type": "code",
   "execution_count": null,
   "metadata": {},
   "outputs": [],
   "source": []
  },
  {
   "cell_type": "markdown",
   "metadata": {},
   "source": [
    "### Binary representation"
   ]
  },
  {
   "cell_type": "code",
   "execution_count": 5,
   "metadata": {
    "colab": {
     "base_uri": "https://localhost:8080/",
     "height": 71
    },
    "colab_type": "code",
    "id": "ykKGbYlmMohC",
    "outputId": "76a1cea3-ec72-43b6-b959-a24875ee8b29"
   },
   "outputs": [
    {
     "ename": "NameError",
     "evalue": "name 'train_text' is not defined",
     "output_type": "error",
     "traceback": [
      "\u001b[0;31m---------------------------------------------------------------------------\u001b[0m",
      "\u001b[0;31mNameError\u001b[0m                                 Traceback (most recent call last)",
      "\u001b[0;32m<ipython-input-5-c29fc55da460>\u001b[0m in \u001b[0;36m<module>\u001b[0;34m\u001b[0m\n\u001b[1;32m      1\u001b[0m \u001b[0;31m# Tokenize and build the vocabulary\u001b[0m\u001b[0;34m\u001b[0m\u001b[0;34m\u001b[0m\u001b[0;34m\u001b[0m\u001b[0m\n\u001b[0;32m----> 2\u001b[0;31m \u001b[0mbin_vec\u001b[0m\u001b[0;34m.\u001b[0m\u001b[0mfit\u001b[0m\u001b[0;34m(\u001b[0m\u001b[0mtrain_text\u001b[0m\u001b[0;34m)\u001b[0m\u001b[0;34m\u001b[0m\u001b[0;34m\u001b[0m\u001b[0m\n\u001b[0m\u001b[1;32m      3\u001b[0m \u001b[0;34m\u001b[0m\u001b[0m\n\u001b[1;32m      4\u001b[0m \u001b[0;31m# Create the feautre matrices\u001b[0m\u001b[0;34m\u001b[0m\u001b[0;34m\u001b[0m\u001b[0;34m\u001b[0m\u001b[0m\n\u001b[1;32m      5\u001b[0m \u001b[0mtrain_bin\u001b[0m \u001b[0;34m=\u001b[0m \u001b[0mbin_vec\u001b[0m\u001b[0;34m.\u001b[0m\u001b[0mtransform\u001b[0m\u001b[0;34m(\u001b[0m\u001b[0mtrain_text\u001b[0m\u001b[0;34m)\u001b[0m\u001b[0;34m\u001b[0m\u001b[0;34m\u001b[0m\u001b[0m\n",
      "\u001b[0;31mNameError\u001b[0m: name 'train_text' is not defined"
     ]
    }
   ],
   "source": [
    "# Tokenize and build the vocabulary\n",
    "bin_vec.fit(train_text)\n",
    "\n",
    "# Create the feautre matrices \n",
    "train_bin = bin_vec.transform(train_text)\n",
    "test_bin = bin_vec.transform(test_raw)"
   ]
  },
  {
   "cell_type": "markdown",
   "metadata": {},
   "source": [
    "### Monograms and Bigrams "
   ]
  },
  {
   "cell_type": "code",
   "execution_count": null,
   "metadata": {},
   "outputs": [],
   "source": [
    "# Tokenize and build the vocabulary\n",
    "bigram_vec.fit(train_text)\n",
    "\n",
    "# Create the feautre matrices \n",
    "train_bigram = bigram_vec.transform(train_text)\n",
    "test_bigram = bigram_vec.transform(test_raw)"
   ]
  },
  {
   "cell_type": "markdown",
   "metadata": {},
   "source": [
    "### Tf-Idf "
   ]
  },
  {
   "cell_type": "code",
   "execution_count": null,
   "metadata": {},
   "outputs": [],
   "source": [
    "# Tokenize and build the vocabulary\n",
    "tfidf_vec.fit(train_text)\n",
    "\n",
    "# Create the feautre matrices \n",
    "train_tfidf = tfidf_vec.transform(train_text)\n",
    "test_tfidf = tfidf_vec.transform(test_raw)"
   ]
  },
  {
   "cell_type": "markdown",
   "metadata": {},
   "source": [
    "# Cross Validation"
   ]
  },
  {
   "cell_type": "markdown",
   "metadata": {},
   "source": [
    "To test a SKlearn model:"
   ]
  },
  {
   "cell_type": "code",
   "execution_count": null,
   "metadata": {},
   "outputs": [],
   "source": [
    "scores = cross_val_score(model, X_train, Y_train, k=5) # outputs an array with scores from each cross validation\n",
    "mean = scores.mean() # can take the mean of the array to evaluate the model"
   ]
  },
  {
   "cell_type": "markdown",
   "metadata": {},
   "source": [
    "To test standard Naive Bayes:"
   ]
  },
  {
   "cell_type": "code",
   "execution_count": null,
   "metadata": {},
   "outputs": [],
   "source": [
    "# Define train(), evaluate() functions\n",
    "def k_cross_validate(X_train, Y_train, k):\n",
    "    full_matrix = np.concatenate((X_train, Y_train), axis=1)\n",
    "    np.random.shuffle(full_matrix) # shuffles rows\n",
    "    X_train = full_matrix[:,:-1]\n",
    "    Y_train = full_matrix[:,-1]\n",
    "    groups = []\n",
    "    num_rows = X_train.shape[0]\n",
    "    spacing = int(num_rows/k)\n",
    "    \n",
    "    # split into groups\n",
    "    for i in range(k-1):\n",
    "        X_mini_train = np.concatenate((X_train[i*spacing:(i+1)spacing, :]), axis=0)\n",
    "              \n",
    "              \n",
    "            groups.append((X_train[i*spacing:(i+1)spacing, :], X_train[i*spacing:(i+1)spacing, :]))\n",
    "    groups.append((X_train[(k-1)*spacing, :], Y_train[(k-1)*spacing, :]))\n",
    "        "
   ]
  },
  {
   "cell_type": "code",
   "execution_count": null,
   "metadata": {},
   "outputs": [],
   "source": [
    "a = np.array([[1,2,3],[4,5,6]])"
   ]
  },
  {
   "cell_type": "code",
   "execution_count": null,
   "metadata": {},
   "outputs": [],
   "source": [
    "a"
   ]
  },
  {
   "cell_type": "code",
   "execution_count": null,
   "metadata": {},
   "outputs": [],
   "source": [
    "b = np.array([[1,2,3],[4,5,6]])"
   ]
  },
  {
   "cell_type": "code",
   "execution_count": null,
   "metadata": {},
   "outputs": [],
   "source": [
    "np.concatenate((a,b), axis=1)"
   ]
  },
  {
   "cell_type": "code",
   "execution_count": null,
   "metadata": {},
   "outputs": [],
   "source": []
  }
 ],
 "metadata": {
  "colab": {
   "collapsed_sections": [],
   "name": "Mini-Project-2.ipynb",
   "provenance": [],
   "version": "0.3.2"
  },
  "kernelspec": {
   "display_name": "Python 3",
   "language": "python",
   "name": "python3"
  },
  "language_info": {
   "codemirror_mode": {
    "name": "ipython",
    "version": 3
   },
   "file_extension": ".py",
   "mimetype": "text/x-python",
   "name": "python",
   "nbconvert_exporter": "python",
   "pygments_lexer": "ipython3",
   "version": "3.7.2"
  }
 },
 "nbformat": 4,
 "nbformat_minor": 1
}

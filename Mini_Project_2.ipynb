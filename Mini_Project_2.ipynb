{
 "cells": [
  {
   "cell_type": "markdown",
   "metadata": {
    "colab_type": "text",
    "id": "m79a_ixHKSNa"
   },
   "source": [
    "# Mini Project 2: IMDB Sentiment Analysis\n",
    "\n",
    "February 22, 2019\n",
    "\n",
    "Akshal Aniche, Jacob Sanz-Robinson, Raphael Hotter\n",
    "\n",
    "COMP 551"
   ]
  },
  {
   "cell_type": "markdown",
   "metadata": {
    "colab_type": "text",
    "id": "0-pKZV1tOrb5"
   },
   "source": [
    "## Imports"
   ]
  },
  {
   "cell_type": "code",
   "execution_count": 3,
   "metadata": {
    "colab": {},
    "colab_type": "code",
    "id": "mM8MJ94vOvfK"
   },
   "outputs": [],
   "source": [
    "import numpy as np\n",
    "from sklearn.model_selection import cross_val_score"
   ]
  },
  {
   "cell_type": "markdown",
   "metadata": {
    "colab_type": "text",
    "id": "RfiIMynrNxs1"
   },
   "source": [
    "## Load the data"
   ]
  },
  {
   "cell_type": "code",
   "execution_count": 10,
   "metadata": {
    "colab": {},
    "colab_type": "code",
    "id": "l97x0eiVOomj"
   },
   "outputs": [],
   "source": [
    "import os\n",
    "pos_train_files = os.listdir('data/train/pos/')\n",
    "neg_train_files = os.listdir('data/train/neg/')\n",
    "test_files = os.listdir('data/test/')\n",
    "\n",
    "# Remove .DS_Store files\n",
    "while '.DS_Store' in pos_train_files:\n",
    "  pos_train_files.remove('.DS_Store')\n",
    "while '.DS_Store' in neg_train_files:\n",
    "  neg_train_files.remove('.DS_Store')\n",
    "while '.DS_Store' in test_files:\n",
    "  test_files.remove('.DS_Store')"
   ]
  },
  {
   "cell_type": "code",
   "execution_count": 11,
   "metadata": {
    "colab": {},
    "colab_type": "code",
    "id": "1cGRD8HCOM_O"
   },
   "outputs": [],
   "source": [
    "# Reads data into 2 arrays\n",
    "train_text, test_raw = [], []\n",
    "\n",
    "for file in pos_train_files:\n",
    "  with open('data/train/pos/{}'.format(file), 'r') as f:\n",
    "    train_text.append(f.read())\n",
    "\n",
    "for file in neg_train_files:\n",
    "  with open('data/train/neg/{}'.format(file), 'r') as f:\n",
    "    train_text.append(f.read())\n",
    "\n",
    "for file in test_files:\n",
    "  with open('data/test/{}'.format(file), 'r') as f:\n",
    "    test_raw.append(f.read())"
   ]
  },
  {
   "cell_type": "code",
   "execution_count": 12,
   "metadata": {
    "colab": {},
    "colab_type": "code",
    "id": "Xt2U3HyfMzD3"
   },
   "outputs": [],
   "source": [
    "# Training set Y vector\n",
    "pos_goal = np.ones((12500))\n",
    "neg_goal = np.zeros((12500))\n",
    "Y_train = np.append(pos_goal, neg_goal, axis = 0)"
   ]
  },
  {
   "cell_type": "markdown",
   "metadata": {},
   "source": [
    "## Data processer preparation"
   ]
  },
  {
   "cell_type": "code",
   "execution_count": 30,
   "metadata": {},
   "outputs": [],
   "source": [
    "from sklearn.feature_extraction.text import CountVectorizer, TfidfVectorizer\n",
    "\n",
    "bin_vec = CountVectorizer(binary=True)\n",
    "tfidf_vec = TfidfVectorizer()\n",
    "bigram_vec = CountVectorizer(ngram_range=(1,2))"
   ]
  },
  {
   "cell_type": "markdown",
   "metadata": {},
   "source": [
    "## Bernoulli Naive Bayes model from scratch"
   ]
  },
  {
   "cell_type": "code",
   "execution_count": 8,
   "metadata": {},
   "outputs": [],
   "source": [
    "numPos = len(pos_train_files)\n",
    "numNeg = len(neg_train_files)\n",
    "numTot = len(train_text)\n",
    "#print(numPos, numNeg, numTot)\n",
    "\n",
    "#Prior probability calculation\n",
    "probPos = float(numPos)/numTot\n",
    "probNeg = float(numNeg)/numTot\n",
    "#print(probPos, probNeg)"
   ]
  },
  {
   "cell_type": "code",
   "execution_count": null,
   "metadata": {},
   "outputs": [],
   "source": [
    "theta_j1 = [0] * len(bin_vec.get_feature_names()) #instantiate array of 0's. One cell per each word in bag of words.\n",
    "exampleNum = 0\n",
    "while exampleNum < 500:#12499: # for each review\n",
    "    currentWordNum = 0 #index to keep track of current word's index\n",
    "    for wordOccurs in train_bin[exampleNum].toarray().sum(axis=0):\n",
    "        if wordOccurs != 0: #if a word occurs, then we add to its count in the array\n",
    "            theta_j1[currentWordNum] = theta_j1[currentWordNum] + 1\n",
    "        currentWordNum = currentWordNum + 1\n",
    "    exampleNum = exampleNum + 1\n",
    "    #if exampleNum%100 == 0:\n",
    "        #print exampleNum\n",
    "\n",
    "theta_j1_np = np.array(theta_j1)\n",
    "theta_j1_final = theta_j1_np/float(numPos)"
   ]
  },
  {
   "cell_type": "code",
   "execution_count": null,
   "metadata": {},
   "outputs": [],
   "source": [
    "theta_j0 = [0] * len(bin_vec.get_feature_names()) #same as above for theta_j1\n",
    "exampleNum = 12500\n",
    "while exampleNum < 13200:#24999: \n",
    "    currentWordNum = 0 \n",
    "    for wordOccurs in train_bin[exampleNum].toarray().sum(axis=0):\n",
    "        if wordOccurs != 0: \n",
    "            theta_j0[currentWordNum] = theta_j0[currentWordNum] + 1\n",
    "        currentWordNum = currentWordNum + 1\n",
    "    exampleNum = exampleNum + 1\n",
    "    #if exampleNum%100 == 0:\n",
    "        #print exampleNum\n",
    "\n",
    "theta_j0_np = np.array(theta_j0)\n",
    "theta_j0_final = theta_j0_np/float(numNeg)"
   ]
  },
  {
   "cell_type": "markdown",
   "metadata": {},
   "source": [
    "## Text processing"
   ]
  },
  {
   "cell_type": "markdown",
   "metadata": {},
   "source": [
    "### Binary representation"
   ]
  },
  {
   "cell_type": "code",
   "execution_count": 31,
   "metadata": {
    "colab": {
     "base_uri": "https://localhost:8080/",
     "height": 71
    },
    "colab_type": "code",
    "id": "ykKGbYlmMohC",
    "outputId": "76a1cea3-ec72-43b6-b959-a24875ee8b29"
   },
   "outputs": [
    {
     "ename": "KeyboardInterrupt",
     "evalue": "",
     "output_type": "error",
     "traceback": [
      "\u001b[0;31m---------------------------------------------------------------------------\u001b[0m",
      "\u001b[0;31mKeyboardInterrupt\u001b[0m                         Traceback (most recent call last)",
      "\u001b[0;32m<ipython-input-31-c29fc55da460>\u001b[0m in \u001b[0;36m<module>\u001b[0;34m\u001b[0m\n\u001b[1;32m      4\u001b[0m \u001b[0;31m# Create the feautre matrices\u001b[0m\u001b[0;34m\u001b[0m\u001b[0;34m\u001b[0m\u001b[0;34m\u001b[0m\u001b[0m\n\u001b[1;32m      5\u001b[0m \u001b[0mtrain_bin\u001b[0m \u001b[0;34m=\u001b[0m \u001b[0mbin_vec\u001b[0m\u001b[0;34m.\u001b[0m\u001b[0mtransform\u001b[0m\u001b[0;34m(\u001b[0m\u001b[0mtrain_text\u001b[0m\u001b[0;34m)\u001b[0m\u001b[0;34m\u001b[0m\u001b[0;34m\u001b[0m\u001b[0m\n\u001b[0;32m----> 6\u001b[0;31m \u001b[0mtest_bin\u001b[0m \u001b[0;34m=\u001b[0m \u001b[0mbin_vec\u001b[0m\u001b[0;34m.\u001b[0m\u001b[0mtransform\u001b[0m\u001b[0;34m(\u001b[0m\u001b[0mtest_raw\u001b[0m\u001b[0;34m)\u001b[0m\u001b[0;34m\u001b[0m\u001b[0;34m\u001b[0m\u001b[0m\n\u001b[0m",
      "\u001b[0;32m/Library/Frameworks/Python.framework/Versions/3.6/lib/python3.6/site-packages/sklearn/feature_extraction/text.py\u001b[0m in \u001b[0;36mtransform\u001b[0;34m(self, raw_documents)\u001b[0m\n\u001b[1;32m   1084\u001b[0m \u001b[0;34m\u001b[0m\u001b[0m\n\u001b[1;32m   1085\u001b[0m         \u001b[0;31m# use the same matrix-building strategy as fit_transform\u001b[0m\u001b[0;34m\u001b[0m\u001b[0;34m\u001b[0m\u001b[0;34m\u001b[0m\u001b[0m\n\u001b[0;32m-> 1086\u001b[0;31m         \u001b[0m_\u001b[0m\u001b[0;34m,\u001b[0m \u001b[0mX\u001b[0m \u001b[0;34m=\u001b[0m \u001b[0mself\u001b[0m\u001b[0;34m.\u001b[0m\u001b[0m_count_vocab\u001b[0m\u001b[0;34m(\u001b[0m\u001b[0mraw_documents\u001b[0m\u001b[0;34m,\u001b[0m \u001b[0mfixed_vocab\u001b[0m\u001b[0;34m=\u001b[0m\u001b[0;32mTrue\u001b[0m\u001b[0;34m)\u001b[0m\u001b[0;34m\u001b[0m\u001b[0;34m\u001b[0m\u001b[0m\n\u001b[0m\u001b[1;32m   1087\u001b[0m         \u001b[0;32mif\u001b[0m \u001b[0mself\u001b[0m\u001b[0;34m.\u001b[0m\u001b[0mbinary\u001b[0m\u001b[0;34m:\u001b[0m\u001b[0;34m\u001b[0m\u001b[0;34m\u001b[0m\u001b[0m\n\u001b[1;32m   1088\u001b[0m             \u001b[0mX\u001b[0m\u001b[0;34m.\u001b[0m\u001b[0mdata\u001b[0m\u001b[0;34m.\u001b[0m\u001b[0mfill\u001b[0m\u001b[0;34m(\u001b[0m\u001b[0;36m1\u001b[0m\u001b[0;34m)\u001b[0m\u001b[0;34m\u001b[0m\u001b[0;34m\u001b[0m\u001b[0m\n",
      "\u001b[0;32m/Library/Frameworks/Python.framework/Versions/3.6/lib/python3.6/site-packages/sklearn/feature_extraction/text.py\u001b[0m in \u001b[0;36m_count_vocab\u001b[0;34m(self, raw_documents, fixed_vocab)\u001b[0m\n\u001b[1;32m    943\u001b[0m                 \u001b[0;32mtry\u001b[0m\u001b[0;34m:\u001b[0m\u001b[0;34m\u001b[0m\u001b[0;34m\u001b[0m\u001b[0m\n\u001b[1;32m    944\u001b[0m                     \u001b[0mfeature_idx\u001b[0m \u001b[0;34m=\u001b[0m \u001b[0mvocabulary\u001b[0m\u001b[0;34m[\u001b[0m\u001b[0mfeature\u001b[0m\u001b[0;34m]\u001b[0m\u001b[0;34m\u001b[0m\u001b[0;34m\u001b[0m\u001b[0m\n\u001b[0;32m--> 945\u001b[0;31m                     \u001b[0;32mif\u001b[0m \u001b[0mfeature_idx\u001b[0m \u001b[0;32mnot\u001b[0m \u001b[0;32min\u001b[0m \u001b[0mfeature_counter\u001b[0m\u001b[0;34m:\u001b[0m\u001b[0;34m\u001b[0m\u001b[0;34m\u001b[0m\u001b[0m\n\u001b[0m\u001b[1;32m    946\u001b[0m                         \u001b[0mfeature_counter\u001b[0m\u001b[0;34m[\u001b[0m\u001b[0mfeature_idx\u001b[0m\u001b[0;34m]\u001b[0m \u001b[0;34m=\u001b[0m \u001b[0;36m1\u001b[0m\u001b[0;34m\u001b[0m\u001b[0;34m\u001b[0m\u001b[0m\n\u001b[1;32m    947\u001b[0m                     \u001b[0;32melse\u001b[0m\u001b[0;34m:\u001b[0m\u001b[0;34m\u001b[0m\u001b[0;34m\u001b[0m\u001b[0m\n",
      "\u001b[0;31mKeyboardInterrupt\u001b[0m: "
     ]
    }
   ],
   "source": [
    "# Tokenize and build the vocabulary\n",
    "bin_vec.fit(train_text)\n",
    "\n",
    "# Create the feautre matrices \n",
    "train_bin = bin_vec.transform(train_text)\n",
    "test_bin = bin_vec.transform(test_raw)"
   ]
  },
  {
   "cell_type": "markdown",
   "metadata": {},
   "source": [
    "### Monograms and Bigrams "
   ]
  },
  {
   "cell_type": "code",
   "execution_count": 32,
   "metadata": {},
   "outputs": [],
   "source": [
    "# Tokenize and build the vocabulary\n",
    "bigram_vec.fit(train_text)\n",
    "\n",
    "# Create the feautre matrices \n",
    "train_bigram = bigram_vec.transform(train_text)\n",
    "test_bigram = bigram_vec.transform(test_raw)"
   ]
  },
  {
   "cell_type": "markdown",
   "metadata": {},
   "source": [
    "### Tf-Idf "
   ]
  },
  {
   "cell_type": "code",
   "execution_count": 24,
   "metadata": {},
   "outputs": [],
   "source": [
    "# Tokenize and build the vocabulary\n",
    "tfidf_vec.fit(train_text)\n",
    "\n",
    "# Create the feautre matrices \n",
    "train_tfidf = tfidf_vec.transform(train_text)\n",
    "test_tfidf = tfidf_vec.transform(test_raw)"
   ]
  },
  {
   "cell_type": "markdown",
   "metadata": {},
   "source": [
    "### Normalized Tf-Idf"
   ]
  },
  {
   "cell_type": "code",
   "execution_count": 26,
   "metadata": {},
   "outputs": [],
   "source": [
    "from sklearn.preprocessing import Normalizer\n",
    "normalizer_tranformer = Normalizer().fit(X=train_tfidf)\n",
    "X_train_normalized = normalizer_tranformer.transform(train_tfidf)\n",
    "X_test_normalized = normalizer_tranformer.transform(test_tfidf)"
   ]
  },
  {
   "cell_type": "markdown",
   "metadata": {},
   "source": [
    "## Models"
   ]
  },
  {
   "cell_type": "markdown",
   "metadata": {},
   "source": [
    "### Naive Bayes (to make sure it worked)"
   ]
  },
  {
   "cell_type": "code",
   "execution_count": 34,
   "metadata": {},
   "outputs": [],
   "source": [
    "from sklearn.naive_bayes import MultinomialNB\n",
    "bayes_clf = MultinomialNB()"
   ]
  },
  {
   "cell_type": "markdown",
   "metadata": {},
   "source": [
    "#### Cross Validation"
   ]
  },
  {
   "cell_type": "code",
   "execution_count": 35,
   "metadata": {},
   "outputs": [
    {
     "name": "stdout",
     "output_type": "stream",
     "text": [
      "Scores: [0.8816  0.88288 0.86528 0.88336]\n",
      "Scores Mean: 0.8782800000000001\n"
     ]
    }
   ],
   "source": [
    "scores = cross_val_score(bayes_clf, train_bigram, Y_train, cv=4)\n",
    "mean = scores.mean()\n",
    "print(\"Scores: {}\".format(scores))\n",
    "print(\"Scores Mean: {}\".format(mean))"
   ]
  },
  {
   "cell_type": "markdown",
   "metadata": {},
   "source": [
    "### Logistic Regression"
   ]
  },
  {
   "cell_type": "code",
   "execution_count": 20,
   "metadata": {},
   "outputs": [],
   "source": [
    "from sklearn import linear_model\n",
    "regr_clf = linear_model.LogisticRegression(solver='lbfgs')"
   ]
  },
  {
   "cell_type": "markdown",
   "metadata": {},
   "source": [
    "#### Cross Validation"
   ]
  },
  {
   "cell_type": "code",
   "execution_count": 27,
   "metadata": {},
   "outputs": [
    {
     "name": "stdout",
     "output_type": "stream",
     "text": [
      "Scores: [0.89008 0.8904  0.87408 0.888  ]\n",
      "Scores Mean: 0.88564\n"
     ]
    }
   ],
   "source": [
    "scores = cross_val_score(regr_clf, X_train_normalized, Y_train, cv=4)\n",
    "mean = scores.mean()\n",
    "print(\"Scores: {}\".format(scores))\n",
    "print(\"Scores Mean: {}\".format(mean))"
   ]
  },
  {
   "cell_type": "markdown",
   "metadata": {},
   "source": [
    "### Decision Trees"
   ]
  },
  {
   "cell_type": "code",
   "execution_count": 1,
   "metadata": {},
   "outputs": [],
   "source": [
    "from sklearn import tree\n",
    "dec_clf = tree.DecisionTreeClassifier()"
   ]
  },
  {
   "cell_type": "code",
   "execution_count": 17,
   "metadata": {},
   "outputs": [
    {
     "name": "stdout",
     "output_type": "stream",
     "text": [
      "Scores: [0.7152  0.71264 0.70032 0.69856]\n",
      "Scores Mean: 0.7066800000000001\n"
     ]
    }
   ],
   "source": [
    "scores = cross_val_score(dec_clf, X_train_normalized, Y_train, cv=4)\n",
    "mean = scores.mean()\n",
    "print(\"Scores: {}\".format(scores))\n",
    "print(\"Scores Mean: {}\".format(mean))"
   ]
  },
  {
   "cell_type": "markdown",
   "metadata": {},
   "source": [
    "I wonder if we can play with the parameters more "
   ]
  },
  {
   "cell_type": "markdown",
   "metadata": {},
   "source": [
    "### Support Vector Machines"
   ]
  },
  {
   "cell_type": "code",
   "execution_count": 18,
   "metadata": {},
   "outputs": [],
   "source": [
    "from sklearn import svm\n",
    "svm_clf = svm.LinearSVC()"
   ]
  },
  {
   "cell_type": "code",
   "execution_count": 28,
   "metadata": {},
   "outputs": [
    {
     "name": "stdout",
     "output_type": "stream",
     "text": [
      "Scores: [0.89952 0.89376 0.88064 0.89616]\n",
      "Scores Mean: 0.89252\n"
     ]
    }
   ],
   "source": [
    "scores = cross_val_score(svm_clf, X_train_normalized, Y_train, cv=4)\n",
    "mean = scores.mean()\n",
    "print(\"Scores: {}\".format(scores))\n",
    "print(\"Scores Mean: {}\".format(mean))"
   ]
  },
  {
   "cell_type": "markdown",
   "metadata": {},
   "source": [
    "# Cross Validation"
   ]
  },
  {
   "cell_type": "markdown",
   "metadata": {},
   "source": [
    "To test standard Naive Bayes:"
   ]
  },
  {
   "cell_type": "code",
   "execution_count": null,
   "metadata": {},
   "outputs": [],
   "source": [
    "# Define train(), evaluate() functions\n",
    "def k_cross_validate(X_train, Y_train, k):\n",
    "    full_matrix = np.concatenate((X_train, Y_train), axis=1)\n",
    "    np.random.shuffle(full_matrix) # shuffles rows\n",
    "    X_train = full_matrix[:,:-1]\n",
    "    Y_train = full_matrix[:,-1]\n",
    "    groups = []\n",
    "    num_rows = X_train.shape[0]\n",
    "    spacing = int(num_rows/k)\n",
    "    \n",
    "    # split into groups\n",
    "    for i in range(k-1):\n",
    "        X_mini_train = np.concatenate((X_train[i*spacing:(i+1)spacing, :]), axis=0)\n",
    "              \n",
    "              \n",
    "            groups.append((X_train[i*spacing:(i+1)spacing, :], X_train[i*spacing:(i+1)spacing, :]))\n",
    "    groups.append((X_train[(k-1)*spacing, :], Y_train[(k-1)*spacing, :]))\n",
    "        "
   ]
  },
  {
   "cell_type": "code",
   "execution_count": null,
   "metadata": {},
   "outputs": [],
   "source": []
  }
 ],
 "metadata": {
  "colab": {
   "collapsed_sections": [],
   "name": "Mini-Project-2.ipynb",
   "provenance": [],
   "version": "0.3.2"
  },
  "kernelspec": {
   "display_name": "Python 3",
   "language": "python",
   "name": "python3"
  },
  "language_info": {
   "codemirror_mode": {
    "name": "ipython",
    "version": 3
   },
   "file_extension": ".py",
   "mimetype": "text/x-python",
   "name": "python",
   "nbconvert_exporter": "python",
   "pygments_lexer": "ipython3",
   "version": "3.6.8"
  }
 },
 "nbformat": 4,
 "nbformat_minor": 1
}
